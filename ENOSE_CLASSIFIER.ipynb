{
 "cells": [
  {
   "cell_type": "code",
   "execution_count": 1,
   "id": "9d4aa860",
   "metadata": {},
   "outputs": [
    {
     "name": "stderr",
     "output_type": "stream",
     "text": [
      "C:\\Users\\bitan\\anaconda3\\lib\\site-packages\\scipy\\__init__.py:146: UserWarning: A NumPy version >=1.16.5 and <1.23.0 is required for this version of SciPy (detected version 1.26.3\n",
      "  warnings.warn(f\"A NumPy version >={np_minversion} and <{np_maxversion}\"\n"
     ]
    }
   ],
   "source": [
    "import pandas as pd\n",
    "from sklearn.model_selection import train_test_split\n",
    "from sklearn.neighbors import KNeighborsClassifier\n",
    "from sklearn.tree import DecisionTreeClassifier\n",
    "from sklearn.svm import SVC\n",
    "from sklearn.ensemble import RandomForestClassifier\n",
    "from sklearn.metrics import accuracy_score"
   ]
  },
  {
   "cell_type": "code",
   "execution_count": 2,
   "id": "0e688766",
   "metadata": {},
   "outputs": [],
   "source": [
    "data = pd.read_csv('ENOSE DATA ANALYSIS (M_P).xlsx - Sheet1.csv')"
   ]
  },
  {
   "cell_type": "code",
   "execution_count": 3,
   "id": "d4b694fd",
   "metadata": {},
   "outputs": [
    {
     "data": {
      "text/plain": [
       "<bound method NDFrame.head of      M : P  SENSOR 1  SENSOR 2  SENSOR 3  SENSOR 4  SENSOR 6  SENSOR 8\n",
       "0     98:2  0.050780  0.001079  0.044720  0.037014  0.043378  0.042692\n",
       "1     96:4  0.084519  0.066538  0.074872  0.055422  0.088859  0.064072\n",
       "2     95:5  0.022720  0.087966  0.018609  0.035670  0.018336  0.008822\n",
       "3     94:6  0.018500  0.109752  0.036438  0.047062  0.055954  0.063350\n",
       "4     92:8  0.081839  0.236674  0.125746  0.128836  0.168879  0.161547\n",
       "5    90:10  0.119978  0.287427  0.197941  0.152894  0.244987  0.223549\n",
       "6    85:15  0.254146  0.260146  0.643227  0.281633  0.572562  0.521015\n",
       "7    80:20  0.293274  0.409951  0.774753  0.318986  0.558511  0.495269\n",
       "8    75:25  0.282873  0.523210  0.708019  0.331131  0.538266  0.465531\n",
       "9    70:30  0.273525  0.561313  0.518365  0.425389  0.540192  0.497511\n",
       "10   50:50  0.271194  0.499044  0.568016  0.336478  0.529672  0.464543\n",
       "11  00:100  0.350354  0.221280  0.637637  0.266924  0.464115  0.420081\n",
       "12    98:2  0.050780  0.001079  0.044720  0.037014  0.043378  0.042692\n",
       "13    96:4  0.084519  0.066538  0.074872  0.055422  0.088859  0.064072\n",
       "14    95:5  0.022720  0.087966  0.018609  0.035670  0.018336  0.008822\n",
       "15    94:6  0.018500  0.109752  0.036438  0.047062  0.055954  0.063350\n",
       "16    92:8  0.081839  0.236674  0.125746  0.128836  0.168879  0.161547\n",
       "17   90:10  0.119978  0.287427  0.197941  0.152894  0.244987  0.223549\n",
       "18   85:15  0.254146  0.260146  0.643227  0.281633  0.572562  0.521015\n",
       "19   80:20  0.293274  0.409951  0.774753  0.318986  0.558511  0.495269\n",
       "20   75:25  0.282873  0.523210  0.708019  0.331131  0.538266  0.465531\n",
       "21   70:30  0.273525  0.561313  0.518365  0.425389  0.540192  0.497511>"
      ]
     },
     "execution_count": 3,
     "metadata": {},
     "output_type": "execute_result"
    }
   ],
   "source": [
    "data.head"
   ]
  },
  {
   "cell_type": "code",
   "execution_count": 4,
   "id": "21c9801b",
   "metadata": {},
   "outputs": [],
   "source": [
    "X = data.iloc[:, 1:].values\n",
    "y = data.iloc[:, 0].apply(lambda x: x.split(':')[0]).values.astype(int)"
   ]
  },
  {
   "cell_type": "code",
   "execution_count": 5,
   "id": "c4065ece",
   "metadata": {},
   "outputs": [
    {
     "data": {
      "text/plain": [
       "array([98, 96, 95, 94, 92, 90, 85, 80, 75, 70, 50,  0, 98, 96, 95, 94, 92,\n",
       "       90, 85, 80, 75, 70])"
      ]
     },
     "execution_count": 5,
     "metadata": {},
     "output_type": "execute_result"
    }
   ],
   "source": [
    "y"
   ]
  },
  {
   "cell_type": "code",
   "execution_count": 6,
   "id": "92f6a422",
   "metadata": {},
   "outputs": [],
   "source": [
    "X_train, X_test, y_train, y_test = train_test_split(X, y, test_size=0.2, random_state=42)"
   ]
  },
  {
   "cell_type": "code",
   "execution_count": 7,
   "id": "682a1ff4",
   "metadata": {},
   "outputs": [],
   "source": [
    "classifier = DecisionTreeClassifier()"
   ]
  },
  {
   "cell_type": "code",
   "execution_count": 8,
   "id": "a24819aa",
   "metadata": {},
   "outputs": [
    {
     "name": "stdout",
     "output_type": "stream",
     "text": [
      "Accuracy: 60.00%\n",
      "[98 94 75 94 94] [98 96 75 96 94]\n"
     ]
    }
   ],
   "source": [
    "classifier.fit(X_train, y_train)\n",
    "y_pred = classifier.predict(X_test)\n",
    "accuracy = accuracy_score(y_test, y_pred)\n",
    "print(f'Accuracy: {accuracy * 100:.2f}%')\n",
    "print(y_pred, y_test)"
   ]
  },
  {
   "cell_type": "code",
   "execution_count": null,
   "id": "71e8c659",
   "metadata": {},
   "outputs": [],
   "source": []
  }
 ],
 "metadata": {
  "kernelspec": {
   "display_name": "Python 3 (ipykernel)",
   "language": "python",
   "name": "python3"
  },
  "language_info": {
   "codemirror_mode": {
    "name": "ipython",
    "version": 3
   },
   "file_extension": ".py",
   "mimetype": "text/x-python",
   "name": "python",
   "nbconvert_exporter": "python",
   "pygments_lexer": "ipython3",
   "version": "3.9.7"
  }
 },
 "nbformat": 4,
 "nbformat_minor": 5
}
